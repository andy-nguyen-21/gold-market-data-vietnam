{
  "nbformat": 4,
  "nbformat_minor": 0,
  "metadata": {
    "colab": {
      "provenance": [],
      "authorship_tag": "ABX9TyNPfvqxVDBTmfbJHrsANiYs",
      "include_colab_link": true
    },
    "kernelspec": {
      "name": "python3",
      "display_name": "Python 3"
    },
    "language_info": {
      "name": "python"
    }
  },
  "cells": [
    {
      "cell_type": "markdown",
      "metadata": {
        "id": "view-in-github",
        "colab_type": "text"
      },
      "source": [
        "<a href=\"https://colab.research.google.com/github/andy-nguyen-21/gold-market-data-vietnam/blob/main/sjc_gold_price_data_creation.ipynb\" target=\"_parent\"><img src=\"https://colab.research.google.com/assets/colab-badge.svg\" alt=\"Open In Colab\"/></a>"
      ]
    },
    {
      "cell_type": "code",
      "source": [
        "# ==== Install required libraries ====\n",
        "import requests\n",
        "import csv\n",
        "from datetime import date, timedelta, datetime\n",
        "import os\n",
        "from github import Github\n",
        "from concurrent.futures import ThreadPoolExecutor, as_completed\n",
        "from google.colab import userdata"
      ],
      "metadata": {
        "id": "HrRmStghJT_N"
      },
      "execution_count": 18,
      "outputs": []
    },
    {
      "cell_type": "code",
      "source": [
        "# ==== CONFIG ====\n",
        "GITHUB_TOKEN = userdata.get('GITHUB_TOKEN')\n",
        "GITHUB_USER = userdata.get('GITHUB_USER')\n",
        "REPO_NAME = \"gold-market-data-vietnam\"\n",
        "FILE_PATH = \"sjc_gold_prices.csv\"\n",
        "\n",
        "# Time range\n",
        "start = date(2016, 1, 1)\n",
        "end = date.today()\n",
        "delta = timedelta(days=1)\n",
        "\n",
        "def parse_price(value):\n",
        "    \"\"\"Convert '126.000' → 126000 (int)\"\"\"\n",
        "    if value is None:\n",
        "        return None\n",
        "    return int(value.replace(\".\", \"\").replace(\",\", \"\"))\n",
        "\n",
        "def fetch_day(d: date):\n",
        "    \"\"\"Fetch data for a single day and return list of rows (may be empty).\"\"\"\n",
        "    url = \"https://edge-api.pnj.io/ecom-frontend/v1/get-gold-price-history\"\n",
        "    params = {\"date\": d.strftime(\"%Y%m%d\")}\n",
        "    rows = []\n",
        "    try:\n",
        "        resp = requests.get(url, params=params, timeout=10)\n",
        "        if resp.status_code == 200:\n",
        "            data = resp.json()\n",
        "            locations = data.get(\"locations\", [])\n",
        "            for loc in locations:\n",
        "                if loc.get(\"name\") == \"TPHCM\":   # Only TPHCM\n",
        "                    for gtype in loc.get(\"gold_type\", []):\n",
        "                        if gtype.get(\"name\") == \"SJC\":  # Only SJC\n",
        "                            for record in gtype.get(\"data\", []):\n",
        "                                updated = record.get(\"updated_at\")\n",
        "                                gia_mua = parse_price(record.get(\"gia_mua\"))\n",
        "                                gia_ban = parse_price(record.get(\"gia_ban\"))\n",
        "                                if updated and gia_mua and gia_ban:\n",
        "                                    dstr, t = updated.split(\" \")\n",
        "                                    rows.append((dstr, t, gia_mua, gia_ban))\n",
        "    except Exception as e:\n",
        "        print(f\"Error fetching {d}: {e}\")\n",
        "    return d, rows\n",
        "\n",
        "# ===== MAIN =====\n",
        "local_file = FILE_PATH\n",
        "with open(local_file, \"w\", newline=\"\", encoding=\"utf-8\") as f:\n",
        "    writer = csv.writer(f)\n",
        "    writer.writerow([\"date\", \"time\", \"gia_mua\", \"gia_ban\"])\n",
        "\n",
        "    last_price = None\n",
        "\n",
        "    # Run requests in parallel\n",
        "    all_days = []\n",
        "    current = start\n",
        "    while current <= end:\n",
        "        all_days.append(current)\n",
        "        current += delta\n",
        "\n",
        "    print(f\"Fetching {len(all_days)} days...\")\n",
        "\n",
        "    with ThreadPoolExecutor(max_workers=10) as executor:\n",
        "        futures = {executor.submit(fetch_day, d): d for d in all_days}\n",
        "        results = []\n",
        "        for fut in as_completed(futures):\n",
        "            d, rows = fut.result()\n",
        "            results.append((d, rows))\n",
        "\n",
        "    # Sort results by date\n",
        "    results.sort(key=lambda x: x[0])\n",
        "\n",
        "    # Process results day by day\n",
        "    for d, rows in results:\n",
        "        if rows:\n",
        "            # Sort within day\n",
        "            rows.sort(key=lambda x: datetime.strptime(x[1], \"%H:%M:%S\"))\n",
        "            filtered = []\n",
        "            last_in_day = None\n",
        "            for row in rows:\n",
        "                dstr, t, mua, ban = row\n",
        "                current_price = (mua, ban)\n",
        "                if current_price != last_in_day:\n",
        "                    filtered.append((datetime.strptime(dstr, \"%d/%m/%Y\").strftime(\"%Y-%m-%d\"), t, mua, ban))\n",
        "                    last_in_day = current_price\n",
        "            for row in filtered:\n",
        "                writer.writerow(row)\n",
        "            last_price = filtered[-1][2:]\n",
        "        else:\n",
        "            # No updates → carry forward yesterday's price\n",
        "            if last_price:\n",
        "                mua, ban = last_price\n",
        "                writer.writerow([d.strftime(\"%Y-%m-%d\"), \"00:00:00\", mua, ban])\n",
        "\n",
        "print(\"✅ CSV created locally:\", local_file)\n",
        "\n",
        "# ==== Upload to GitHub ====\n",
        "g = Github(GITHUB_TOKEN)\n",
        "repo = g.get_repo(f\"{GITHUB_USER}/{REPO_NAME}\")\n",
        "\n",
        "with open(local_file, \"r\", encoding=\"utf-8\") as f:\n",
        "    content = f.read()\n",
        "\n",
        "try:\n",
        "    contents = repo.get_contents(FILE_PATH)\n",
        "    repo.update_file(contents.path, \"Update gold price data\", content, contents.sha, branch=\"main\")\n",
        "    print(\"✅ File updated on GitHub:\", FILE_PATH)\n",
        "except:\n",
        "    repo.create_file(FILE_PATH, \"Add gold price data\", content, branch=\"main\")\n",
        "    print(\"✅ File created on GitHub:\", FILE_PATH)\n"
      ],
      "metadata": {
        "colab": {
          "base_uri": "https://localhost:8080/"
        },
        "id": "QxvdF4-O_WO-",
        "outputId": "c0a6888d-ac19-4a1c-9d43-59ce16514a6f"
      },
      "execution_count": 17,
      "outputs": [
        {
          "output_type": "stream",
          "name": "stdout",
          "text": [
            "Fetching 3528 days...\n",
            "✅ CSV created locally: sjc_gold_prices.csv\n",
            "✅ File updated on GitHub: sjc_gold_prices.csv\n"
          ]
        }
      ]
    }
  ]
}